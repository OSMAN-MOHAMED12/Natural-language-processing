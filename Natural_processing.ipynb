{
 "cells": [
  {
   "cell_type": "code",
   "execution_count": 179,
   "id": "57e8032c-bc0a-4377-91d2-3574d69bf85f",
   "metadata": {},
   "outputs": [],
   "source": [
    "import pandas as pd\n",
    "import numpy as np\n",
    "import matplotlib.pyplot as plt\n",
    "import seaborn as sns\n",
    "import tensorflow as tf"
   ]
  },
  {
   "cell_type": "code",
   "execution_count": 180,
   "id": "aeab225d-54c9-4352-ac88-8c7df4faf9c4",
   "metadata": {},
   "outputs": [
    {
     "name": "stdout",
     "output_type": "stream",
     "text": [
      "(568454, 10)\n",
      "(50000, 10)\n"
     ]
    }
   ],
   "source": [
    "# Read in data\n",
    "df = pd.read_csv('C:/Users/abdir/Downloads/archive (46)/Reviews.csv')\n",
    "print(df.shape)\n",
    "df = df.head(50000)\n",
    "print(df.shape)"
   ]
  },
  {
   "cell_type": "code",
   "execution_count": 181,
   "id": "67405e7e-8583-4e20-b270-9876091374cb",
   "metadata": {},
   "outputs": [
    {
     "data": {
      "image/png": "[encoded data removed]",
      "text/plain": [
       "<Figure size 1000x500 with 1 Axes>"
      ]
     },
     "metadata": {},
     "output_type": "display_data"
    }
   ],
   "source": [
    "ax = df['Score'].value_counts().sort_index() \\\n",
    "    .plot(kind='bar',\n",
    "          title='Count of Reviews by Stars',\n",
    "          figsize=(10, 5))\n",
    "ax.set_xlabel('Review Stars')\n",
    "plt.show()"
   ]
  },
  {
   "cell_type": "code",
   "execution_count": 182,
   "id": "0d3b3cc6-046e-4c3e-a203-e49753148856",
   "metadata": {},
   "outputs": [
    {
     "name": "stdout",
     "output_type": "stream",
     "text": [
      "<class 'pandas.core.frame.DataFrame'>\n",
      "RangeIndex: 50000 entries, 0 to 49999\n",
      "Data columns (total 10 columns):\n",
      " #   Column                  Non-Null Count  Dtype \n",
      "---  ------                  --------------  ----- \n",
      " 0   Id                      50000 non-null  int64 \n",
      " 1   ProductId               50000 non-null  object\n",
      " 2   UserId                  50000 non-null  object\n",
      " 3   ProfileName             49997 non-null  object\n",
      " 4   HelpfulnessNumerator    50000 non-null  int64 \n",
      " 5   HelpfulnessDenominator  50000 non-null  int64 \n",
      " 6   Score                   50000 non-null  int64 \n",
      " 7   Time                    50000 non-null  int64 \n",
      " 8   Summary                 49998 non-null  object\n",
      " 9   Text                    50000 non-null  object\n",
      "dtypes: int64(5), object(5)\n",
      "memory usage: 3.8+ MB\n"
     ]
    }
   ],
   "source": [
    "df.info()"
   ]
  },
  {
   "cell_type": "code",
   "execution_count": 183,
   "id": "b60e3882-664f-4a99-a3c5-f7a0910b9ec6",
   "metadata": {},
   "outputs": [
    {
     "data": {
      "text/html": [
       "<div>\n",
       "<style scoped>\n",
       "    .dataframe tbody tr th:only-of-type {\n",
       "        vertical-align: middle;\n",
       "    }\n",
       "\n",
       "    .dataframe tbody tr th {\n",
       "        vertical-align: top;\n",
       "    }\n",
       "\n",
       "    .dataframe thead th {\n",
       "        text-align: right;\n",
       "    }\n",
       "</style>\n",
       "<table border=\"1\" class=\"dataframe\">\n",
       "  <thead>\n",
       "    <tr style=\"text-align: right;\">\n",
       "      <th></th>\n",
       "      <th>Id</th>\n",
       "      <th>ProductId</th>\n",
       "      <th>UserId</th>\n",
       "      <th>ProfileName</th>\n",
       "      <th>HelpfulnessNumerator</th>\n",
       "      <th>HelpfulnessDenominator</th>\n",
       "      <th>Score</th>\n",
       "      <th>Time</th>\n",
       "      <th>Summary</th>\n",
       "      <th>Text</th>\n",
       "    </tr>\n",
       "  </thead>\n",
       "  <tbody>\n",
       "    <tr>\n",
       "      <th>49998</th>\n",
       "      <td>49999</td>\n",
       "      <td>B00430B73W</td>\n",
       "      <td>AMX286UGXISMA</td>\n",
       "      <td>Aaron Dragushan</td>\n",
       "      <td>0</td>\n",
       "      <td>0</td>\n",
       "      <td>4</td>\n",
       "      <td>1247702400</td>\n",
       "      <td>fantastic, but chew carefully</td>\n",
       "      <td>I love these bars and will continue to buy the...</td>\n",
       "    </tr>\n",
       "    <tr>\n",
       "      <th>49999</th>\n",
       "      <td>50000</td>\n",
       "      <td>B00430B73W</td>\n",
       "      <td>A3042WJDYJ22S8</td>\n",
       "      <td>Sunny Side Up \"CoffeeBuzz\"</td>\n",
       "      <td>0</td>\n",
       "      <td>0</td>\n",
       "      <td>5</td>\n",
       "      <td>1178755200</td>\n",
       "      <td>Very Tasty and Healthy.</td>\n",
       "      <td>These are very good; nutritious, great flavor ...</td>\n",
       "    </tr>\n",
       "  </tbody>\n",
       "</table>\n",
       "</div>"
      ],
      "text/plain": [
       "          Id   ProductId          UserId                 ProfileName  \\\n",
       "49998  49999  B00430B73W   AMX286UGXISMA             Aaron Dragushan   \n",
       "49999  50000  B00430B73W  A3042WJDYJ22S8  Sunny Side Up \"CoffeeBuzz\"   \n",
       "\n",
       "       HelpfulnessNumerator  HelpfulnessDenominator  Score        Time  \\\n",
       "49998                     0                       0      4  1247702400   \n",
       "49999                     0                       0      5  1178755200   \n",
       "\n",
       "                             Summary  \\\n",
       "49998  fantastic, but chew carefully   \n",
       "49999        Very Tasty and Healthy.   \n",
       "\n",
       "                                                    Text  \n",
       "49998  I love these bars and will continue to buy the...  \n",
       "49999  These are very good; nutritious, great flavor ...  "
      ]
     },
     "execution_count": 183,
     "metadata": {},
     "output_type": "execute_result"
    }
   ],
   "source": [
    "df.tail(n=2)"
   ]
  },
  {
   "cell_type": "code",
   "execution_count": 184,
   "id": "1e43651b-b047-435e-bedb-56df66807864",
   "metadata": {},
   "outputs": [
    {
     "name": "stderr",
     "output_type": "stream",
     "text": [
      "[nltk_data] Downloading package stopwords to\n",
      "[nltk_data]     C:\\Users\\abdir\\AppData\\Roaming\\nltk_data...\n",
      "[nltk_data]   Package stopwords is already up-to-date!\n"
     ]
    }
   ],
   "source": [
    "import re\n",
    "import nltk\n",
    "nltk.download('stopwords')\n",
    "from nltk.corpus import stopwords\n",
    "from nltk.stem.porter import PorterStemmer\n",
    "corpus = []\n",
    "for i in range(0, 50000):\n",
    "  review = re.sub('[^a-zA-Z]', ' ', df['Text'][i])\n",
    "  review = review.lower()\n",
    "  review = review.split()\n",
    "  ps = PorterStemmer()\n",
    "  all_stopwords = stopwords.words('english')\n",
    "  review = [ps.stem(word) for word in review if not word in set(all_stopwords)]\n",
    "  review = ' '.join(review)\n",
    "  corpus.append(review)"
   ]
  },
  {
   "cell_type": "code",
   "execution_count": 185,
   "id": "595f9563-b52a-49db-8ee8-67e6e78955c3",
   "metadata": {},
   "outputs": [],
   "source": [
    "from tensorflow import keras\n",
    "from tensorflow.keras.preprocessing.text import Tokenizer"
   ]
  },
  {
   "cell_type": "code",
   "execution_count": 186,
   "id": "0a36526a-00b2-4dc8-828a-e94c50ed351f",
   "metadata": {},
   "outputs": [],
   "source": [
    "tokenizer = Tokenizer(num_words=None,filters='!\"#$%&()*+,-./:;<=>?@[\\\\]^_`{|}~\\t\\n',\n",
    "                      lower=True,split=' ',char_level=False,oov_token=None,analyzer=None)"
   ]
  },
  {
   "cell_type": "code",
   "execution_count": 187,
   "id": "16cf8052-b486-448f-9aca-dfab6a2d32b2",
   "metadata": {},
   "outputs": [],
   "source": [
    "tokenizer.fit_on_texts(corpus)"
   ]
  },
  {
   "cell_type": "code",
   "execution_count": 188,
   "id": "45240002-3142-444c-b099-d52ef3f5d3fb",
   "metadata": {},
   "outputs": [],
   "source": [
    "word_index = tokenizer.word_index\n",
    "# print(word_index)"
   ]
  },
  {
   "cell_type": "code",
   "execution_count": 189,
   "id": "679441d1-5797-4a66-a375-e17bff36315e",
   "metadata": {},
   "outputs": [],
   "source": [
    "sequences = tokenizer.texts_to_sequences(corpus)"
   ]
  },
  {
   "cell_type": "code",
   "execution_count": 190,
   "id": "901dd788-fd65-4289-8494-5615a2477b17",
   "metadata": {},
   "outputs": [],
   "source": [
    "# sequences"
   ]
  },
  {
   "cell_type": "code",
   "execution_count": 191,
   "id": "a0015734-1348-4b3f-9b9d-8d0ed28882df",
   "metadata": {},
   "outputs": [],
   "source": [
    "from tensorflow.keras.preprocessing.sequence import pad_sequences"
   ]
  },
  {
   "cell_type": "code",
   "execution_count": 192,
   "id": "c28b8542-08f1-4de7-935f-6556dd43f87d",
   "metadata": {},
   "outputs": [
    {
     "data": {
      "text/plain": [
       "array([[   0,    0,    0, ...,  836,    6,   38],\n",
       "       [   0,    0,    0, ..., 2687,    6, 3609],\n",
       "       [   0,    0,    0, ..., 1571, 1355, 6407],\n",
       "       ...,\n",
       "       [   0,    0,    0, ...,   98,  515,   85],\n",
       "       [   0,    0,    0, ..., 1297,  194,  281],\n",
       "       [   0,    0,    0, ...,  153, 1665,  511]])"
      ]
     },
     "execution_count": 192,
     "metadata": {},
     "output_type": "execute_result"
    }
   ],
   "source": [
    "padded = pad_sequences(sequences, truncating='post')\n",
    "padded"
   ]
  },
  {
   "cell_type": "code",
   "execution_count": 193,
   "id": "654538b9-1a31-4598-a4d9-41fa417e5d61",
   "metadata": {},
   "outputs": [
    {
     "name": "stderr",
     "output_type": "stream",
     "text": [
      "[nltk_data] Downloading package vader_lexicon to\n",
      "[nltk_data]     C:\\Users\\abdir\\AppData\\Roaming\\nltk_data...\n",
      "[nltk_data]   Package vader_lexicon is already up-to-date!\n"
     ]
    }
   ],
   "source": [
    "import nltk\n",
    "nltk.download('vader_lexicon')\n",
    "vaders = 42  # Example\n",
    "# from some_module import vaders"
   ]
  },
  {
   "cell_type": "code",
   "execution_count": 194,
   "id": "c5caa311-0cb1-444b-888c-97eb2d7819ce",
   "metadata": {},
   "outputs": [],
   "source": [
    "from nltk.sentiment import SentimentIntensityAnalyzer\n",
    "sia = SentimentIntensityAnalyzer()"
   ]
  },
  {
   "cell_type": "code",
   "execution_count": 195,
   "id": "83986d50-8381-4c99-8dae-f2ad4a65f2e6",
   "metadata": {},
   "outputs": [
    {
     "data": {
      "text/plain": [
       "{'neg': 0.0, 'neu': 0.318, 'pos': 0.682, 'compound': 0.6468}"
      ]
     },
     "execution_count": 195,
     "metadata": {},
     "output_type": "execute_result"
    }
   ],
   "source": [
    "sia.polarity_scores('I am so happy!')"
   ]
  },
  {
   "cell_type": "code",
   "execution_count": 196,
   "id": "bc0c4047-dc35-4b95-8714-deeca88379e5",
   "metadata": {},
   "outputs": [
    {
     "data": {
      "text/plain": [
       "{'neg': 0.451, 'neu': 0.549, 'pos': 0.0, 'compound': -0.6249}"
      ]
     },
     "execution_count": 196,
     "metadata": {},
     "output_type": "execute_result"
    }
   ],
   "source": [
    "sia.polarity_scores('This is the worst thing ever.')"
   ]
  },
  {
   "cell_type": "code",
   "execution_count": 197,
   "id": "60c13cd4-4a3b-48e5-b443-73b4689388ac",
   "metadata": {},
   "outputs": [],
   "source": [
    "training_features = padded\n",
    "training_labels = df.iloc[:, 6].values"
   ]
  },
  {
   "cell_type": "code",
   "execution_count": 198,
   "id": "e9297c0a-e4c2-4196-be06-60bda2f6ff36",
   "metadata": {},
   "outputs": [],
   "source": [
    "from sklearn.preprocessing import StandardScaler\n",
    "sc = StandardScaler()\n",
    "training_features = sc.fit_transform(training_features)"
   ]
  },
  {
   "cell_type": "code",
   "execution_count": 199,
   "id": "540430da-204b-473e-87a4-45b6be69ef85",
   "metadata": {},
   "outputs": [
    {
     "data": {
      "text/plain": [
       "array([5, 1, 4, ..., 5, 4, 5], dtype=int64)"
      ]
     },
     "execution_count": 199,
     "metadata": {},
     "output_type": "execute_result"
    }
   ],
   "source": [
    "training_labels"
   ]
  },
  {
   "cell_type": "code",
   "execution_count": 200,
   "id": "88d23ce6-3abe-412e-aea7-228c17fd5bde",
   "metadata": {},
   "outputs": [],
   "source": [
    "model = tf.keras.Sequential([\n",
    "    tf.keras.layers.Dense(128, activation='relu'),\n",
    "    tf.keras.layers.Dense(256, activation='relu'),\n",
    "    tf.keras.layers.Dense(256, activation='relu'),\n",
    "    tf.keras.layers.Dense(6, activation='softmax')\n",
    "])"
   ]
  },
  {
   "cell_type": "code",
   "execution_count": 201,
   "id": "9b7de723-2db5-41c3-87a8-3ba23cb5311e",
   "metadata": {},
   "outputs": [],
   "source": [
    "model.compile(optimizer=tf.keras.optimizers.Adam(0.001), loss=\"sparse_categorical_crossentropy\",\n",
    "              metrics=['accuracy'])"
   ]
  },
  {
   "cell_type": "code",
   "execution_count": 202,
   "id": "1b1a2a36-38b9-4db9-b621-641c67127c00",
   "metadata": {},
   "outputs": [
    {
     "name": "stdout",
     "output_type": "stream",
     "text": [
      "Epoch 1/100\n",
      "1250/1250 [==============================] - 14s 7ms/step - loss: 1.1868 - accuracy: 0.6255 - val_loss: 1.2419 - val_accuracy: 0.6048\n",
      "Epoch 2/100\n",
      "1250/1250 [==============================] - 7s 6ms/step - loss: 1.2904 - accuracy: 0.6266 - val_loss: 1.2088 - val_accuracy: 0.6045\n",
      "Epoch 3/100\n",
      "1250/1250 [==============================] - 8s 6ms/step - loss: 1.2114 - accuracy: 0.6274 - val_loss: 1.2497 - val_accuracy: 0.6031\n",
      "Epoch 4/100\n",
      "1250/1250 [==============================] - 8s 6ms/step - loss: 1.1949 - accuracy: 0.6298 - val_loss: 1.2325 - val_accuracy: 0.6030\n",
      "Epoch 5/100\n",
      "1250/1250 [==============================] - 8s 7ms/step - loss: 1.1057 - accuracy: 0.6365 - val_loss: 1.2386 - val_accuracy: 0.6011\n",
      "Epoch 6/100\n",
      "1250/1250 [==============================] - 8s 6ms/step - loss: 1.0716 - accuracy: 0.6453 - val_loss: 1.3054 - val_accuracy: 0.5964\n",
      "Epoch 7/100\n",
      "1250/1250 [==============================] - 8s 6ms/step - loss: 1.0484 - accuracy: 0.6547 - val_loss: 1.3428 - val_accuracy: 0.5981\n",
      "Epoch 8/100\n",
      "1250/1250 [==============================] - 7s 6ms/step - loss: 1.0365 - accuracy: 0.6636 - val_loss: 1.3917 - val_accuracy: 0.5853\n",
      "Epoch 9/100\n",
      "1250/1250 [==============================] - 8s 6ms/step - loss: 0.9955 - accuracy: 0.6719 - val_loss: 1.4578 - val_accuracy: 0.5863\n",
      "Epoch 10/100\n",
      "1250/1250 [==============================] - 7s 6ms/step - loss: 0.9834 - accuracy: 0.6785 - val_loss: 1.5415 - val_accuracy: 0.5823\n",
      "Epoch 11/100\n",
      "1250/1250 [==============================] - 8s 6ms/step - loss: 0.9841 - accuracy: 0.6855 - val_loss: 1.6540 - val_accuracy: 0.5838\n",
      "Epoch 12/100\n",
      "1250/1250 [==============================] - 7s 6ms/step - loss: 0.9276 - accuracy: 0.6949 - val_loss: 1.7509 - val_accuracy: 0.5808\n",
      "Epoch 13/100\n",
      "1250/1250 [==============================] - 8s 6ms/step - loss: 0.9210 - accuracy: 0.7002 - val_loss: 1.8246 - val_accuracy: 0.5858\n",
      "Epoch 14/100\n",
      "1250/1250 [==============================] - 8s 6ms/step - loss: 0.9023 - accuracy: 0.7061 - val_loss: 1.8350 - val_accuracy: 0.5727\n",
      "Epoch 15/100\n",
      "1250/1250 [==============================] - 8s 6ms/step - loss: 0.8761 - accuracy: 0.7120 - val_loss: 1.9734 - val_accuracy: 0.5702\n",
      "Epoch 16/100\n",
      "1250/1250 [==============================] - 8s 7ms/step - loss: 0.8627 - accuracy: 0.7184 - val_loss: 2.0179 - val_accuracy: 0.5779\n",
      "Epoch 17/100\n",
      "1250/1250 [==============================] - 8s 6ms/step - loss: 0.8476 - accuracy: 0.7226 - val_loss: 2.0538 - val_accuracy: 0.5692\n",
      "Epoch 18/100\n",
      "1250/1250 [==============================] - 8s 6ms/step - loss: 0.8358 - accuracy: 0.7270 - val_loss: 2.1874 - val_accuracy: 0.5719\n",
      "Epoch 19/100\n",
      "1250/1250 [==============================] - 8s 7ms/step - loss: 0.8343 - accuracy: 0.7303 - val_loss: 2.3033 - val_accuracy: 0.5609\n",
      "Epoch 20/100\n",
      "1250/1250 [==============================] - 8s 7ms/step - loss: 0.8075 - accuracy: 0.7365 - val_loss: 2.2995 - val_accuracy: 0.5696\n",
      "Epoch 21/100\n",
      "1250/1250 [==============================] - 9s 7ms/step - loss: 0.8549 - accuracy: 0.7379 - val_loss: 2.4430 - val_accuracy: 0.5568\n",
      "Epoch 22/100\n",
      "1250/1250 [==============================] - 8s 7ms/step - loss: 0.7811 - accuracy: 0.7469 - val_loss: 2.6619 - val_accuracy: 0.5676\n",
      "Epoch 23/100\n",
      "1250/1250 [==============================] - 9s 7ms/step - loss: 0.7757 - accuracy: 0.7503 - val_loss: 2.7369 - val_accuracy: 0.5626\n",
      "Epoch 24/100\n",
      "1250/1250 [==============================] - 8s 7ms/step - loss: 1.0081 - accuracy: 0.7460 - val_loss: 2.6631 - val_accuracy: 0.5639\n",
      "Epoch 25/100\n",
      "1250/1250 [==============================] - 9s 7ms/step - loss: 1.1945 - accuracy: 0.7540 - val_loss: 2.8873 - val_accuracy: 0.5567\n",
      "Epoch 26/100\n",
      "1250/1250 [==============================] - 8s 7ms/step - loss: 0.8386 - accuracy: 0.7546 - val_loss: 2.7720 - val_accuracy: 0.5618\n",
      "Epoch 27/100\n",
      "1250/1250 [==============================] - 9s 7ms/step - loss: 0.7427 - accuracy: 0.7621 - val_loss: 2.8532 - val_accuracy: 0.5655\n",
      "Epoch 28/100\n",
      "1250/1250 [==============================] - 8s 7ms/step - loss: 0.7158 - accuracy: 0.7677 - val_loss: 2.8646 - val_accuracy: 0.5555\n",
      "Epoch 29/100\n",
      "1250/1250 [==============================] - 9s 7ms/step - loss: 0.7115 - accuracy: 0.7699 - val_loss: 2.9901 - val_accuracy: 0.5647\n",
      "Epoch 30/100\n",
      "1250/1250 [==============================] - 8s 7ms/step - loss: 0.6956 - accuracy: 0.7732 - val_loss: 3.2007 - val_accuracy: 0.5626\n",
      "Epoch 31/100\n",
      "1250/1250 [==============================] - 9s 7ms/step - loss: 0.7040 - accuracy: 0.7731 - val_loss: 3.3349 - val_accuracy: 0.5559\n",
      "Epoch 32/100\n",
      "1250/1250 [==============================] - 9s 7ms/step - loss: 0.8956 - accuracy: 0.7699 - val_loss: 3.4577 - val_accuracy: 0.5614\n",
      "Epoch 33/100\n",
      "1250/1250 [==============================] - 8s 7ms/step - loss: 0.6914 - accuracy: 0.7797 - val_loss: 3.7003 - val_accuracy: 0.5589\n",
      "Epoch 34/100\n",
      "1250/1250 [==============================] - 9s 7ms/step - loss: 0.6804 - accuracy: 0.7820 - val_loss: 3.5193 - val_accuracy: 0.5606\n",
      "Epoch 35/100\n",
      "1250/1250 [==============================] - 8s 7ms/step - loss: 0.6765 - accuracy: 0.7824 - val_loss: 3.6699 - val_accuracy: 0.5653\n",
      "Epoch 36/100\n",
      "1250/1250 [==============================] - 9s 7ms/step - loss: 0.6598 - accuracy: 0.7862 - val_loss: 3.7155 - val_accuracy: 0.5457\n",
      "Epoch 37/100\n",
      "1250/1250 [==============================] - 8s 7ms/step - loss: 0.6724 - accuracy: 0.7855 - val_loss: 3.7749 - val_accuracy: 0.5549\n",
      "Epoch 38/100\n",
      "1250/1250 [==============================] - 9s 7ms/step - loss: 0.6482 - accuracy: 0.7923 - val_loss: 3.9250 - val_accuracy: 0.5512\n",
      "Epoch 39/100\n",
      "1250/1250 [==============================] - 8s 7ms/step - loss: 0.6547 - accuracy: 0.7897 - val_loss: 3.8638 - val_accuracy: 0.5616\n",
      "Epoch 40/100\n",
      "1250/1250 [==============================] - 9s 7ms/step - loss: 0.6402 - accuracy: 0.7950 - val_loss: 3.8265 - val_accuracy: 0.5388\n",
      "Epoch 41/100\n",
      "1250/1250 [==============================] - 9s 7ms/step - loss: 0.6356 - accuracy: 0.7947 - val_loss: 3.8455 - val_accuracy: 0.5558\n",
      "Epoch 42/100\n",
      "1250/1250 [==============================] - 9s 7ms/step - loss: 0.6353 - accuracy: 0.7965 - val_loss: 4.0039 - val_accuracy: 0.5539\n",
      "Epoch 43/100\n",
      "1250/1250 [==============================] - 8s 7ms/step - loss: 0.6344 - accuracy: 0.7971 - val_loss: 4.1227 - val_accuracy: 0.5504\n",
      "Epoch 44/100\n",
      "1250/1250 [==============================] - 9s 7ms/step - loss: 0.6316 - accuracy: 0.7982 - val_loss: 4.1885 - val_accuracy: 0.5503\n",
      "Epoch 45/100\n",
      "1250/1250 [==============================] - 8s 7ms/step - loss: 0.6170 - accuracy: 0.8025 - val_loss: 4.1708 - val_accuracy: 0.5498\n",
      "Epoch 46/100\n",
      "1250/1250 [==============================] - 9s 7ms/step - loss: 0.6161 - accuracy: 0.8029 - val_loss: 4.1949 - val_accuracy: 0.5508\n",
      "Epoch 47/100\n",
      "1250/1250 [==============================] - 9s 7ms/step - loss: 0.6437 - accuracy: 0.7999 - val_loss: 4.1972 - val_accuracy: 0.5569\n",
      "Epoch 48/100\n",
      "1250/1250 [==============================] - 9s 7ms/step - loss: 0.5928 - accuracy: 0.8100 - val_loss: 4.2228 - val_accuracy: 0.5440\n",
      "Epoch 49/100\n",
      "1250/1250 [==============================] - 9s 7ms/step - loss: 0.5896 - accuracy: 0.8089 - val_loss: 4.3125 - val_accuracy: 0.5479\n",
      "Epoch 50/100\n",
      "1250/1250 [==============================] - 9s 7ms/step - loss: 0.5859 - accuracy: 0.8105 - val_loss: 4.4721 - val_accuracy: 0.5520\n",
      "Epoch 51/100\n",
      "1250/1250 [==============================] - 9s 7ms/step - loss: 0.6059 - accuracy: 0.8075 - val_loss: 4.5076 - val_accuracy: 0.5529\n",
      "Epoch 52/100\n",
      "1250/1250 [==============================] - 8s 7ms/step - loss: 0.5853 - accuracy: 0.8124 - val_loss: 4.4130 - val_accuracy: 0.5448\n",
      "Epoch 53/100\n",
      "1250/1250 [==============================] - 9s 7ms/step - loss: 0.5762 - accuracy: 0.8152 - val_loss: 4.6849 - val_accuracy: 0.5423\n",
      "Epoch 54/100\n",
      "1250/1250 [==============================] - 8s 7ms/step - loss: 0.7556 - accuracy: 0.8027 - val_loss: 5.0613 - val_accuracy: 0.5421\n",
      "Epoch 55/100\n",
      "1250/1250 [==============================] - 9s 7ms/step - loss: 0.5997 - accuracy: 0.8149 - val_loss: 5.3676 - val_accuracy: 0.5451\n",
      "Epoch 56/100\n",
      "1250/1250 [==============================] - 8s 7ms/step - loss: 0.5525 - accuracy: 0.8229 - val_loss: 5.4720 - val_accuracy: 0.5521\n",
      "Epoch 57/100\n",
      "1250/1250 [==============================] - 9s 7ms/step - loss: 0.5741 - accuracy: 0.8191 - val_loss: 5.3885 - val_accuracy: 0.5483\n",
      "Epoch 58/100\n",
      "1250/1250 [==============================] - 9s 7ms/step - loss: 0.6237 - accuracy: 0.8151 - val_loss: 5.6891 - val_accuracy: 0.5447\n",
      "Epoch 59/100\n",
      "1250/1250 [==============================] - 9s 7ms/step - loss: 0.5670 - accuracy: 0.8227 - val_loss: 5.7374 - val_accuracy: 0.5421\n",
      "Epoch 60/100\n",
      "1250/1250 [==============================] - 9s 7ms/step - loss: 0.5574 - accuracy: 0.8238 - val_loss: 6.1239 - val_accuracy: 0.5373\n",
      "Epoch 61/100\n",
      "1250/1250 [==============================] - 9s 7ms/step - loss: 0.7472 - accuracy: 0.8196 - val_loss: 5.3708 - val_accuracy: 0.5394\n",
      "Epoch 62/100\n",
      "1250/1250 [==============================] - 9s 7ms/step - loss: 0.5541 - accuracy: 0.8252 - val_loss: 5.7887 - val_accuracy: 0.5501\n",
      "Epoch 63/100\n",
      "1250/1250 [==============================] - 9s 7ms/step - loss: 0.5422 - accuracy: 0.8278 - val_loss: 5.6347 - val_accuracy: 0.5424\n",
      "Epoch 64/100\n",
      "1250/1250 [==============================] - 9s 7ms/step - loss: 0.5490 - accuracy: 0.8278 - val_loss: 5.6572 - val_accuracy: 0.5431\n",
      "Epoch 65/100\n",
      "1250/1250 [==============================] - 9s 7ms/step - loss: 0.5533 - accuracy: 0.8267 - val_loss: 5.9712 - val_accuracy: 0.5295\n",
      "Epoch 66/100\n",
      "1250/1250 [==============================] - 9s 7ms/step - loss: 0.5373 - accuracy: 0.8301 - val_loss: 5.8297 - val_accuracy: 0.5397\n",
      "Epoch 67/100\n",
      "1250/1250 [==============================] - 9s 7ms/step - loss: 0.5271 - accuracy: 0.8306 - val_loss: 5.8729 - val_accuracy: 0.5429\n",
      "Epoch 68/100\n",
      "1250/1250 [==============================] - 9s 7ms/step - loss: 0.5485 - accuracy: 0.8266 - val_loss: 5.8072 - val_accuracy: 0.5418\n",
      "Epoch 69/100\n",
      "1250/1250 [==============================] - 9s 7ms/step - loss: 0.5427 - accuracy: 0.8274 - val_loss: 6.2509 - val_accuracy: 0.5284\n",
      "Epoch 70/100\n",
      "1250/1250 [==============================] - 9s 7ms/step - loss: 0.5353 - accuracy: 0.8296 - val_loss: 6.0405 - val_accuracy: 0.5386\n",
      "Epoch 71/100\n",
      "1250/1250 [==============================] - 9s 7ms/step - loss: 0.5293 - accuracy: 0.8321 - val_loss: 6.2336 - val_accuracy: 0.5448\n",
      "Epoch 72/100\n",
      "1250/1250 [==============================] - 9s 7ms/step - loss: 0.5372 - accuracy: 0.8292 - val_loss: 5.9306 - val_accuracy: 0.5318\n",
      "Epoch 73/100\n",
      "1250/1250 [==============================] - 9s 7ms/step - loss: 0.5285 - accuracy: 0.8328 - val_loss: 6.4447 - val_accuracy: 0.5325\n",
      "Epoch 74/100\n",
      "1250/1250 [==============================] - 9s 7ms/step - loss: 0.5244 - accuracy: 0.8339 - val_loss: 6.5004 - val_accuracy: 0.5425\n",
      "Epoch 75/100\n",
      "1250/1250 [==============================] - 9s 7ms/step - loss: 0.5278 - accuracy: 0.8335 - val_loss: 6.4033 - val_accuracy: 0.5406\n",
      "Epoch 76/100\n",
      "1250/1250 [==============================] - 9s 7ms/step - loss: 0.5263 - accuracy: 0.8338 - val_loss: 6.4038 - val_accuracy: 0.5460\n",
      "Epoch 77/100\n",
      "1250/1250 [==============================] - 9s 7ms/step - loss: 0.5191 - accuracy: 0.8342 - val_loss: 6.1243 - val_accuracy: 0.5314\n",
      "Epoch 78/100\n",
      "1250/1250 [==============================] - 9s 7ms/step - loss: 0.5226 - accuracy: 0.8353 - val_loss: 6.1431 - val_accuracy: 0.5289\n",
      "Epoch 79/100\n",
      "1250/1250 [==============================] - 9s 7ms/step - loss: 0.5233 - accuracy: 0.8357 - val_loss: 6.1370 - val_accuracy: 0.5327\n",
      "Epoch 80/100\n",
      "1250/1250 [==============================] - 9s 7ms/step - loss: 0.5067 - accuracy: 0.8390 - val_loss: 6.3854 - val_accuracy: 0.5361\n",
      "Epoch 81/100\n",
      "1250/1250 [==============================] - 9s 7ms/step - loss: 0.5139 - accuracy: 0.8385 - val_loss: 6.5801 - val_accuracy: 0.5435\n",
      "Epoch 82/100\n",
      "1250/1250 [==============================] - 9s 7ms/step - loss: 0.5028 - accuracy: 0.8405 - val_loss: 6.4913 - val_accuracy: 0.5305\n",
      "Epoch 83/100\n",
      "1250/1250 [==============================] - 9s 7ms/step - loss: 0.5070 - accuracy: 0.8401 - val_loss: 6.7456 - val_accuracy: 0.5293\n",
      "Epoch 84/100\n",
      "1250/1250 [==============================] - 10s 8ms/step - loss: 0.5200 - accuracy: 0.8393 - val_loss: 6.6688 - val_accuracy: 0.5370\n",
      "Epoch 85/100\n",
      "1250/1250 [==============================] - 9s 7ms/step - loss: 0.5097 - accuracy: 0.8407 - val_loss: 6.4389 - val_accuracy: 0.5243\n",
      "Epoch 86/100\n",
      "1250/1250 [==============================] - 9s 7ms/step - loss: 0.5305 - accuracy: 0.8404 - val_loss: 6.5975 - val_accuracy: 0.5346\n",
      "Epoch 87/100\n",
      "1250/1250 [==============================] - 9s 7ms/step - loss: 0.4852 - accuracy: 0.8455 - val_loss: 6.9595 - val_accuracy: 0.5396\n",
      "Epoch 88/100\n",
      "1250/1250 [==============================] - 9s 7ms/step - loss: 0.4939 - accuracy: 0.8448 - val_loss: 6.8488 - val_accuracy: 0.5361\n",
      "Epoch 89/100\n",
      "1250/1250 [==============================] - 9s 7ms/step - loss: 0.4937 - accuracy: 0.8443 - val_loss: 7.1236 - val_accuracy: 0.5393\n",
      "Epoch 90/100\n",
      "1250/1250 [==============================] - 8s 6ms/step - loss: 0.4956 - accuracy: 0.8441 - val_loss: 7.3441 - val_accuracy: 0.5472\n",
      "Epoch 91/100\n",
      "1250/1250 [==============================] - 8s 6ms/step - loss: 0.5109 - accuracy: 0.8405 - val_loss: 7.0358 - val_accuracy: 0.5253\n",
      "Epoch 92/100\n",
      "1250/1250 [==============================] - 7s 6ms/step - loss: 0.4856 - accuracy: 0.8464 - val_loss: 7.0366 - val_accuracy: 0.5325\n",
      "Epoch 93/100\n",
      "1250/1250 [==============================] - 8s 6ms/step - loss: 0.4946 - accuracy: 0.8466 - val_loss: 7.5548 - val_accuracy: 0.5397\n",
      "Epoch 94/100\n",
      "1250/1250 [==============================] - 7s 6ms/step - loss: 0.4997 - accuracy: 0.8454 - val_loss: 7.5302 - val_accuracy: 0.5415\n",
      "Epoch 95/100\n",
      "1250/1250 [==============================] - 8s 6ms/step - loss: 0.4873 - accuracy: 0.8472 - val_loss: 7.1723 - val_accuracy: 0.5346\n",
      "Epoch 96/100\n",
      "1250/1250 [==============================] - 8s 6ms/step - loss: 0.4762 - accuracy: 0.8493 - val_loss: 7.5571 - val_accuracy: 0.5439\n",
      "Epoch 97/100\n",
      "1250/1250 [==============================] - 9s 7ms/step - loss: 0.4884 - accuracy: 0.8478 - val_loss: 7.4149 - val_accuracy: 0.5312\n",
      "Epoch 98/100\n",
      "1250/1250 [==============================] - 9s 7ms/step - loss: 0.4923 - accuracy: 0.8464 - val_loss: 7.4555 - val_accuracy: 0.5346\n",
      "Epoch 99/100\n",
      "1250/1250 [==============================] - 9s 7ms/step - loss: 0.4795 - accuracy: 0.8491 - val_loss: 7.4301 - val_accuracy: 0.5326\n",
      "Epoch 100/100\n",
      "1250/1250 [==============================] - 9s 7ms/step - loss: 0.4761 - accuracy: 0.8497 - val_loss: 7.4065 - val_accuracy: 0.5358\n"
     ]
    }
   ],
   "source": [
    "history = model.fit(training_features, training_labels,  validation_split=0.2,epochs=100)"
   ]
  },
  {
   "cell_type": "code",
   "execution_count": null,
   "id": "46ea0590-023f-406c-9c3a-0f8dba672b01",
   "metadata": {},
   "outputs": [],
   "source": []
  },
  {
   "cell_type": "code",
   "execution_count": null,
   "id": "fb56ae69-bc2d-4d20-b76b-e921a635c5b5",
   "metadata": {},
   "outputs": [],
   "source": []
  }
 ],
 "metadata": {
  "kernelspec": {
   "display_name": "Python 3 (ipykernel)",
   "language": "python",
   "name": "python3"
  },
  "language_info": {
   "codemirror_mode": {
    "name": "ipython",
    "version": 3
   },
   "file_extension": ".py",
   "mimetype": "text/x-python",
   "name": "python",
   "nbconvert_exporter": "python",
   "pygments_lexer": "ipython3",
   "version": "3.10.9"
  }
 },
 "nbformat": 4,
 "nbformat_minor": 5
}
